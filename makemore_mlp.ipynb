{
 "cells": [
  {
   "cell_type": "code",
   "execution_count": 1,
   "id": "95d70f7d",
   "metadata": {},
   "outputs": [],
   "source": [
    "import torch \n",
    "import torch.nn.functional as F\n",
    "import matplotlib.pyplot as plt\n",
    "%matplotlib inline"
   ]
  },
  {
   "cell_type": "code",
   "execution_count": 2,
   "id": "a7fc0970",
   "metadata": {},
   "outputs": [],
   "source": [
    "with open('good_villages.txt') as f:\n",
    "    words = f.read().splitlines()"
   ]
  },
  {
   "cell_type": "code",
   "execution_count": 3,
   "id": "aa1dbc2f",
   "metadata": {},
   "outputs": [],
   "source": [
    "vocab = sorted(list(set(''.join(words))))"
   ]
  },
  {
   "cell_type": "code",
   "execution_count": 4,
   "id": "e25cbaf7",
   "metadata": {},
   "outputs": [
    {
     "name": "stdout",
     "output_type": "stream",
     "text": [
      "[' ', \"'\", '-', 'а', 'б', 'в', 'г', 'д', 'е', 'ж', 'з', 'и', 'й', 'к', 'л', 'м', 'н', 'о', 'п', 'р', 'с', 'т', 'у', 'ф', 'х', 'ц', 'ч', 'ш', 'щ', 'ь', 'ю', 'я', 'є', 'і', 'ї', 'ґ']\n"
     ]
    }
   ],
   "source": [
    "print(vocab)"
   ]
  },
  {
   "cell_type": "code",
   "execution_count": 5,
   "id": "273873df",
   "metadata": {},
   "outputs": [
    {
     "data": {
      "text/plain": [
       "14349"
      ]
     },
     "execution_count": 5,
     "metadata": {},
     "output_type": "execute_result"
    }
   ],
   "source": [
    "len(words)"
   ]
  },
  {
   "cell_type": "code",
   "execution_count": 6,
   "id": "1872465a",
   "metadata": {},
   "outputs": [
    {
     "data": {
      "text/plain": [
       "['запорізька балка',\n",
       " 'кадомка',\n",
       " 'ільці',\n",
       " 'луцики',\n",
       " 'володимирка',\n",
       " 'товарна',\n",
       " 'студенок',\n",
       " 'скаливатка',\n",
       " 'саїнка',\n",
       " 'підгаття']"
      ]
     },
     "execution_count": 6,
     "metadata": {},
     "output_type": "execute_result"
    }
   ],
   "source": [
    "import random\n",
    "random.sample(words, 10)"
   ]
  },
  {
   "cell_type": "code",
   "execution_count": 7,
   "id": "3eedb397",
   "metadata": {},
   "outputs": [],
   "source": [
    "stoi = {s: i+1 for i, s in enumerate(vocab)}\n",
    "stoi['.'] = 0\n",
    "\n",
    "itos = {v: k for k, v in stoi.items()}\n",
    "vocab_size = len(itos)"
   ]
  },
  {
   "cell_type": "code",
   "execution_count": 8,
   "id": "8fdad380",
   "metadata": {},
   "outputs": [
    {
     "data": {
      "text/plain": [
       "37"
      ]
     },
     "execution_count": 8,
     "metadata": {},
     "output_type": "execute_result"
    }
   ],
   "source": [
    "vocab_size"
   ]
  },
  {
   "cell_type": "code",
   "execution_count": 9,
   "id": "b49e9a3e",
   "metadata": {},
   "outputs": [],
   "source": [
    "block_size = 3\n",
    "\n",
    "def build_dataset(words):\n",
    "    X, Y = [], []\n",
    "    \n",
    "    for word in words:\n",
    "        context = [0] * block_size\n",
    "        for char in word + '.':\n",
    "            idx = stoi[char]\n",
    "            X.append(context)\n",
    "            Y.append(idx)\n",
    "            context = context[1:] + [idx]\n",
    "    X = torch.tensor(X)\n",
    "    Y = torch.tensor(Y)\n",
    "    return X, Y\n",
    "\n",
    "import random\n",
    "random.shuffle(words)\n",
    "n1 = int(0.8*len(words))\n",
    "n2 = int(0.9*len(words))\n",
    "\n",
    "Xtr, Ytr = build_dataset(words[:n1])\n",
    "Xdev, Ydev = build_dataset(words[n1:n2])\n",
    "Xte, Yte = build_dataset(words[n2:])"
   ]
  },
  {
   "cell_type": "code",
   "execution_count": 10,
   "id": "ce5178e4",
   "metadata": {
    "scrolled": true
   },
   "outputs": [
    {
     "data": {
      "text/plain": [
       "(torch.Size([113807, 3]), torch.Size([14180, 3]), torch.Size([14308, 3]))"
      ]
     },
     "execution_count": 10,
     "metadata": {},
     "output_type": "execute_result"
    }
   ],
   "source": [
    "Xtr.shape, Xte.shape, Xdev.shape"
   ]
  },
  {
   "cell_type": "code",
   "execution_count": 12,
   "id": "5374bc42",
   "metadata": {},
   "outputs": [
    {
     "name": "stdout",
     "output_type": "stream",
     "text": [
      "14007\n"
     ]
    }
   ],
   "source": [
    "n_emb = 10\n",
    "n_hidden = 200\n",
    "\n",
    "C = torch.randn(vocab_size, n_emb              ) \n",
    "W1 = torch.rand((block_size * n_emb, n_hidden) ) * (5/3)/(block_size * n_emb)**0.5\n",
    "b1 = torch.rand(n_hidden                       ) * 0.01\n",
    "W2 = torch.randn(n_hidden, vocab_size          ) * 0.01\n",
    "b2 = torch.rand(vocab_size                     ) * 0\n",
    "\n",
    "params = [C, W1, b1, W2, b2]\n",
    "print(sum(p.nelement() for p in params))\n",
    "for p in params:\n",
    "    p.requires_grad = True"
   ]
  },
  {
   "cell_type": "code",
   "execution_count": 13,
   "id": "6ff2be1c",
   "metadata": {},
   "outputs": [
    {
     "name": "stdout",
     "output_type": "stream",
     "text": [
      "      0/ 200000: 3.6847\n",
      "  10000/ 200000: 2.4515\n",
      "  20000/ 200000: 2.4483\n",
      "  30000/ 200000: 2.0541\n",
      "  40000/ 200000: 2.0454\n",
      "  50000/ 200000: 2.3879\n",
      "  60000/ 200000: 2.1486\n",
      "  70000/ 200000: 1.8158\n",
      "  80000/ 200000: 2.1421\n",
      "  90000/ 200000: 2.0377\n",
      " 100000/ 200000: 1.9131\n",
      " 110000/ 200000: 1.9064\n",
      " 120000/ 200000: 2.1009\n",
      " 130000/ 200000: 1.3436\n",
      " 140000/ 200000: 2.3263\n",
      " 150000/ 200000: 1.8172\n",
      " 160000/ 200000: 1.6496\n",
      " 170000/ 200000: 1.8279\n",
      " 180000/ 200000: 1.6283\n",
      " 190000/ 200000: 1.5642\n"
     ]
    }
   ],
   "source": [
    "max_steps = 200_000\n",
    "batch_size = 32\n",
    "lossi = []\n",
    "\n",
    "for i in range(max_steps):\n",
    "    #minibatch\n",
    "    ix = torch.randint(0, Xtr.shape[0], (batch_size,))\n",
    "    Xb, Yb = Xtr[ix], Ytr[ix]\n",
    "    \n",
    "    # forward\n",
    "    emb = C[Xb]\n",
    "    emb_cat = emb.view(-1, n_emb * block_size)\n",
    "    hpreact = emb_cat @ W1 + b1\n",
    "    h = torch.tanh(hpreact)\n",
    "    logits = h @ W2 + b2\n",
    "    loss = F.cross_entropy(logits, Yb)\n",
    "\n",
    "    # backward\n",
    "    for p in params:\n",
    "        p.grad = None\n",
    "    loss.backward()\n",
    "    \n",
    "    # update\n",
    "    lr = 0.01 if i < 100_000 else 0.01\n",
    "    for p in params:\n",
    "        p.data += -lr * p.grad\n",
    "    \n",
    "    # stats\n",
    "    if i % 10_000 == 0:\n",
    "        print(f'{i:7d}/{max_steps:7d}: {loss.item():.4f}')\n",
    "    lossi.append(loss.item())"
   ]
  },
  {
   "cell_type": "code",
   "execution_count": 14,
   "id": "8076137b",
   "metadata": {
    "scrolled": true
   },
   "outputs": [
    {
     "data": {
      "text/plain": [
       "[<matplotlib.lines.Line2D at 0x7faf702d1f10>]"
      ]
     },
     "execution_count": 14,
     "metadata": {},
     "output_type": "execute_result"
    },
    {
     "data": {
      "image/png": "[encoded data removed]",
      "text/plain": [
       "<Figure size 640x480 with 1 Axes>"
      ]
     },
     "metadata": {},
     "output_type": "display_data"
    }
   ],
   "source": [
    "plt.plot(lossi)"
   ]
  },
  {
   "cell_type": "code",
   "execution_count": 15,
   "id": "8d9b46cf",
   "metadata": {},
   "outputs": [
    {
     "name": "stdout",
     "output_type": "stream",
     "text": [
      "train 1.812497854232788\n",
      "val 1.8776651620864868\n"
     ]
    }
   ],
   "source": [
    "@torch.no_grad()\n",
    "def split_loss(split: str):\n",
    "    x, y = {\n",
    "        \"train\": (Xtr, Ytr),\n",
    "        \"val\": (Xdev, Ydev),\n",
    "        \"test\": (Xte, Yte)\n",
    "    }[split]\n",
    "    emb = C[x]\n",
    "    emb_cat = emb.view(-1, n_emb * block_size)\n",
    "    hpreact = emb_cat @ W1 + b1\n",
    "    h = torch.tanh(hpreact)\n",
    "    logits = h @ W2 + b2\n",
    "    loss = F.cross_entropy(logits, y)\n",
    "    print(split, loss.item())\n",
    "\n",
    "split_loss('train')\n",
    "split_loss('val')"
   ]
  },
  {
   "cell_type": "code",
   "execution_count": 55,
   "id": "6b16b527",
   "metadata": {
    "collapsed": true
   },
   "outputs": [
    {
     "data": {
      "image/png": "[encoded data removed]",
      "text/plain": [
       "<Figure size 800x800 with 1 Axes>"
      ]
     },
     "metadata": {},
     "output_type": "display_data"
    }
   ],
   "source": [
    "plt.figure(figsize=(8, 8))\n",
    "plt.scatter(C[:,0].data, C[:,4].data, s=200)\n",
    "\n",
    "for i in range((C.shape[0])):\n",
    "    plt.text(C[i,0].item(), C[i,4].item(), itos[i], ha='center', va='center', color='white')"
   ]
  },
  {
   "cell_type": "code",
   "execution_count": 16,
   "id": "0b82d5f4",
   "metadata": {},
   "outputs": [],
   "source": [
    "def sample(n_samples, start=None):\n",
    "    out_ = []\n",
    "    while len(out_) < n_samples:\n",
    "        out = []\n",
    "        if start is None:\n",
    "            context = [0] * block_size\n",
    "        else:\n",
    "            context = [stoi[s] for s in start]\n",
    "        while True:\n",
    "            emb = C[torch.tensor(context)]\n",
    "            emb_cat = emb.view(-1, n_emb * block_size)\n",
    "            hpreact = emb_cat @ W1 + b1\n",
    "            h = torch.tanh(hpreact)\n",
    "            logits = h @ W2 + b2\n",
    "            probs = F.softmax(logits, dim=1)\n",
    "            ix = torch.multinomial(probs, num_samples=1).item()\n",
    "            if ix == 0:\n",
    "                break\n",
    "            context = context[1:] + [ix]\n",
    "            out.append(itos[ix])\n",
    "        if out not in out_:\n",
    "            out_.append(out)\n",
    "    for out in out_:\n",
    "        if start is not None:\n",
    "            print(start + ''.join(out))\n",
    "        else:\n",
    "            print(''.join(out))"
   ]
  },
  {
   "cell_type": "code",
   "execution_count": 20,
   "id": "f72962e4",
   "metadata": {},
   "outputs": [
    {
     "name": "stdout",
     "output_type": "stream",
     "text": [
      "городеррибятій\n",
      "гороблаболданченкуважів\n",
      "горське\n",
      "горіжня селиків\n",
      "горинограбанків\n",
      "горбівка\n",
      "горокозарщина\n",
      "горик\n",
      "городнопили\n",
      "гори\n"
     ]
    }
   ],
   "source": [
    "sample(10, 'гор')"
   ]
  },
  {
   "cell_type": "code",
   "execution_count": null,
   "id": "e877d68b",
   "metadata": {},
   "outputs": [],
   "source": []
  }
 ],
 "metadata": {
  "kernelspec": {
   "display_name": "jupyter_env",
   "language": "python",
   "name": "jupyter_env"
  },
  "language_info": {
   "codemirror_mode": {
    "name": "ipython",
    "version": 3
   },
   "file_extension": ".py",
   "mimetype": "text/x-python",
   "name": "python",
   "nbconvert_exporter": "python",
   "pygments_lexer": "ipython3",
   "version": "3.8.13"
  }
 },
 "nbformat": 4,
 "nbformat_minor": 5
}
