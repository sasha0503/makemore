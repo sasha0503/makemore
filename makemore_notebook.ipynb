{
 "cells": [
  {
   "cell_type": "code",
   "execution_count": 11,
   "id": "1b14a7fe",
   "metadata": {},
   "outputs": [],
   "source": [
    "with open('good_names.txt') as f:\n",
    "    name_dataset = f.readlines()"
   ]
  },
  {
   "cell_type": "code",
   "execution_count": 4,
   "id": "f154eb15",
   "metadata": {},
   "outputs": [],
   "source": [
    "def name_sanity_check(names):\n",
    "    good_names = []\n",
    "    for name in names:\n",
    "        try:\n",
    "            new_name = ''\n",
    "            for letter in name:\n",
    "                if letter.isalpha() or letter == '’' or letter == '\\'':\n",
    "                    new_name += letter\n",
    "            if len(new_name) <= 1:\n",
    "                continue\n",
    "            if any([i in new_name for i in ['t', 'o', 'm', 'k']]):\n",
    "                continue\n",
    "            new_name = new_name.lower()\n",
    "            new_name = new_name.replace('\\'', '’').replace('ы', 'и').replace('ъ', 'ь').replace('i', 'і')\n",
    "            if new_name in good_names:\n",
    "                continue\n",
    "            good_names.append(new_name)\n",
    "        except:\n",
    "            continue\n",
    "    return good_names"
   ]
  },
  {
   "cell_type": "code",
   "execution_count": 13,
   "id": "53970a1a",
   "metadata": {},
   "outputs": [],
   "source": [
    "name_dataset = name_sanity_check(name_dataset)"
   ]
  },
  {
   "cell_type": "code",
   "execution_count": 4,
   "id": "545a22f3",
   "metadata": {},
   "outputs": [],
   "source": [
    "cosac_new = name_sanity_check(cosac_names)\n",
    "regular_new = name_sanity_check(regular_names)"
   ]
  },
  {
   "cell_type": "code",
   "execution_count": 5,
   "id": "586fade6",
   "metadata": {},
   "outputs": [],
   "source": [
    "additional_data = name_sanity_check(additional_data)"
   ]
  },
  {
   "cell_type": "code",
   "execution_count": 6,
   "id": "575f96ab",
   "metadata": {},
   "outputs": [],
   "source": [
    "name_dataset = cosac_new + regular_new"
   ]
  },
  {
   "cell_type": "code",
   "execution_count": 7,
   "id": "e715c757",
   "metadata": {},
   "outputs": [],
   "source": [
    "# save nice dataset\n",
    "\n",
    "with open('good_names.txt', 'w') as f:\n",
    "    for name in name_dataset:\n",
    "        f.write(f\"{name}\\n\")"
   ]
  },
  {
   "cell_type": "code",
   "execution_count": 8,
   "id": "1b1dd0d6",
   "metadata": {},
   "outputs": [],
   "source": [
    "dataset = name_dataset + additional_data"
   ]
  },
  {
   "cell_type": "code",
   "execution_count": 14,
   "id": "d7ede91d",
   "metadata": {},
   "outputs": [
    {
     "data": {
      "text/plain": [
       "3937"
      ]
     },
     "execution_count": 14,
     "metadata": {},
     "output_type": "execute_result"
    }
   ],
   "source": [
    "len(name_dataset)"
   ]
  },
  {
   "cell_type": "code",
   "execution_count": 34,
   "id": "0c774693",
   "metadata": {},
   "outputs": [
    {
     "name": "stdout",
     "output_type": "stream",
     "text": [
      "['бонь', 'владилен', 'євстрат', 'добромир', 'вендеслав', 'новослав', 'честирад', 'непутько', 'мстиша', 'вогнедара']\n"
     ]
    }
   ],
   "source": [
    "import random\n",
    "print(random.sample(name_dataset, 10))"
   ]
  },
  {
   "cell_type": "code",
   "execution_count": 35,
   "id": "e13d7cee",
   "metadata": {},
   "outputs": [],
   "source": [
    "alphabet = ['.'] + sorted(list(set(''.join(name_dataset))))"
   ]
  },
  {
   "cell_type": "code",
   "execution_count": 36,
   "id": "e0f01424",
   "metadata": {},
   "outputs": [],
   "source": [
    "abc_size = len(alphabet)"
   ]
  },
  {
   "cell_type": "code",
   "execution_count": 37,
   "id": "ed58bd8b",
   "metadata": {},
   "outputs": [
    {
     "name": "stdout",
     "output_type": "stream",
     "text": [
      ". а б в г д е ж з и й к л м н о п р с т у ф х ц ч ш щ ь ю я є і ї ґ ’\n"
     ]
    }
   ],
   "source": [
    "print(' '.join(alphabet))"
   ]
  },
  {
   "cell_type": "code",
   "execution_count": 38,
   "id": "16a31c1e",
   "metadata": {},
   "outputs": [
    {
     "data": {
      "text/plain": [
       "35"
      ]
     },
     "execution_count": 38,
     "metadata": {},
     "output_type": "execute_result"
    }
   ],
   "source": [
    "abc_size"
   ]
  },
  {
   "cell_type": "code",
   "execution_count": 39,
   "id": "ee12d806",
   "metadata": {},
   "outputs": [],
   "source": [
    "stoi = {s: i for i, s in enumerate(alphabet)}\n",
    "itos = {v: k for k, v in stoi.items()}"
   ]
  },
  {
   "cell_type": "code",
   "execution_count": 40,
   "id": "739a2d36",
   "metadata": {},
   "outputs": [
    {
     "data": {
      "text/plain": [
       "0"
      ]
     },
     "execution_count": 40,
     "metadata": {},
     "output_type": "execute_result"
    }
   ],
   "source": [
    "stoi['.']"
   ]
  },
  {
   "cell_type": "code",
   "execution_count": 41,
   "id": "e7133eec",
   "metadata": {},
   "outputs": [],
   "source": [
    "import torch"
   ]
  },
  {
   "cell_type": "code",
   "execution_count": 42,
   "id": "8e1a1b56",
   "metadata": {},
   "outputs": [],
   "source": [
    "N = torch.zeros((abc_size, abc_size), dtype=torch.int32)"
   ]
  },
  {
   "cell_type": "code",
   "execution_count": 73,
   "id": "9cea613b",
   "metadata": {},
   "outputs": [],
   "source": [
    "P = (N+1).float()\n",
    "P /= P.sum(1, keepdim=True)"
   ]
  },
  {
   "cell_type": "code",
   "execution_count": 79,
   "id": "950c0c4c",
   "metadata": {},
   "outputs": [
    {
     "name": "stdout",
     "output_type": "stream",
     "text": [
      "nll=tensor(2.1887)\n"
     ]
    }
   ],
   "source": [
    "log_likelihood = 0.0\n",
    "n = 0\n",
    "for name in [\"богдан\"]:\n",
    "    chs = ['.'] + list(name) + ['.']\n",
    "    for ch1, ch2 in zip(chs, chs[1:]):\n",
    "        idx1 = stoi[ch1]\n",
    "        idx2 = stoi[ch2]\n",
    "        prob = P[idx1, idx2]\n",
    "        log_likelihood += torch.log(prob)\n",
    "        n += 1\n",
    "        \n",
    "nll = -log_likelihood\n",
    "nll /= n\n",
    "print(f\"{nll=}\")"
   ]
  },
  {
   "cell_type": "code",
   "execution_count": 88,
   "id": "99730451",
   "metadata": {},
   "outputs": [
    {
     "name": "stdout",
     "output_type": "stream",
     "text": [
      "None\n"
     ]
    }
   ],
   "source": [
    "print(N[0, 3].grad)"
   ]
  },
  {
   "cell_type": "code",
   "execution_count": 46,
   "id": "f01ce712",
   "metadata": {},
   "outputs": [],
   "source": [
    "import matplotlib.pyplot as plt\n",
    "%matplotlib inline"
   ]
  },
  {
   "cell_type": "code",
   "execution_count": 51,
   "id": "ece84865",
   "metadata": {},
   "outputs": [
    {
     "data": {
      "text/plain": [
       "<matplotlib.image.AxesImage at 0x7f3d50b1c5e0>"
      ]
     },
     "execution_count": 51,
     "metadata": {},
     "output_type": "execute_result"
    },
    {
     "data": {
      "image/png": "[encoded data removed]",
      "text/plain": [
       "<Figure size 640x480 with 1 Axes>"
      ]
     },
     "metadata": {},
     "output_type": "display_data"
    }
   ],
   "source": [
    "plt.imshow(N)"
   ]
  },
  {
   "cell_type": "code",
   "execution_count": 305,
   "id": "30106366",
   "metadata": {},
   "outputs": [
    {
     "data": {
      "text/plain": [
       "<matplotlib.image.AxesImage at 0x7f3d267bd070>"
      ]
     },
     "execution_count": 305,
     "metadata": {},
     "output_type": "execute_result"
    },
    {
     "data": {
      "image/png": "[encoded data removed]",
      "text/plain": [
       "<Figure size 640x480 with 1 Axes>"
      ]
     },
     "metadata": {},
     "output_type": "display_data"
    }
   ],
   "source": [
    "plt.imshow(W.exp().detach().numpy())"
   ]
  },
  {
   "cell_type": "code",
   "execution_count": 303,
   "id": "db0f10a6",
   "metadata": {},
   "outputs": [],
   "source": [
    "xs, ys = [], []\n",
    "\n",
    "for name in name_dataset:\n",
    "    chs = ['.'] + list(name) + ['.']\n",
    "    for ch1, ch2 in zip(chs, chs[1:]):\n",
    "        idx1 = stoi[ch1]\n",
    "        idx2 = stoi[ch2]\n",
    "        \n",
    "        xs.append(idx1)\n",
    "        ys.append(idx2)\n",
    "\n",
    "xs, ys = torch.tensor(xs), torch.tensor(ys)\n",
    "num = xs.nelement()\n",
    "\n",
    "W = torch.randn((abc_size, abc_size), requires_grad=True)"
   ]
  },
  {
   "cell_type": "code",
   "execution_count": 304,
   "id": "7da68b2d",
   "metadata": {
    "collapsed": true
   },
   "outputs": [
    {
     "name": "stdout",
     "output_type": "stream",
     "text": [
      "tensor(3.9690, grad_fn=<NegBackward0>)\n",
      "tensor(3.6364, grad_fn=<NegBackward0>)\n",
      "tensor(3.4017, grad_fn=<NegBackward0>)\n",
      "tensor(3.2343, grad_fn=<NegBackward0>)\n",
      "tensor(3.1078, grad_fn=<NegBackward0>)\n",
      "tensor(3.0114, grad_fn=<NegBackward0>)\n",
      "tensor(2.9371, grad_fn=<NegBackward0>)\n",
      "tensor(2.8793, grad_fn=<NegBackward0>)\n",
      "tensor(2.8336, grad_fn=<NegBackward0>)\n",
      "tensor(2.7968, grad_fn=<NegBackward0>)\n",
      "tensor(2.7663, grad_fn=<NegBackward0>)\n",
      "tensor(2.7404, grad_fn=<NegBackward0>)\n",
      "tensor(2.7182, grad_fn=<NegBackward0>)\n",
      "tensor(2.6987, grad_fn=<NegBackward0>)\n",
      "tensor(2.6815, grad_fn=<NegBackward0>)\n",
      "tensor(2.6662, grad_fn=<NegBackward0>)\n",
      "tensor(2.6524, grad_fn=<NegBackward0>)\n",
      "tensor(2.6399, grad_fn=<NegBackward0>)\n",
      "tensor(2.6285, grad_fn=<NegBackward0>)\n",
      "tensor(2.6181, grad_fn=<NegBackward0>)\n",
      "tensor(2.6086, grad_fn=<NegBackward0>)\n",
      "tensor(2.5998, grad_fn=<NegBackward0>)\n",
      "tensor(2.5917, grad_fn=<NegBackward0>)\n",
      "tensor(2.5842, grad_fn=<NegBackward0>)\n",
      "tensor(2.5772, grad_fn=<NegBackward0>)\n",
      "tensor(2.5707, grad_fn=<NegBackward0>)\n",
      "tensor(2.5646, grad_fn=<NegBackward0>)\n",
      "tensor(2.5589, grad_fn=<NegBackward0>)\n",
      "tensor(2.5536, grad_fn=<NegBackward0>)\n",
      "tensor(2.5486, grad_fn=<NegBackward0>)\n",
      "tensor(2.5439, grad_fn=<NegBackward0>)\n",
      "tensor(2.5395, grad_fn=<NegBackward0>)\n",
      "tensor(2.5353, grad_fn=<NegBackward0>)\n",
      "tensor(2.5314, grad_fn=<NegBackward0>)\n",
      "tensor(2.5277, grad_fn=<NegBackward0>)\n",
      "tensor(2.5241, grad_fn=<NegBackward0>)\n",
      "tensor(2.5208, grad_fn=<NegBackward0>)\n",
      "tensor(2.5176, grad_fn=<NegBackward0>)\n",
      "tensor(2.5146, grad_fn=<NegBackward0>)\n",
      "tensor(2.5117, grad_fn=<NegBackward0>)\n",
      "tensor(2.5089, grad_fn=<NegBackward0>)\n",
      "tensor(2.5063, grad_fn=<NegBackward0>)\n",
      "tensor(2.5038, grad_fn=<NegBackward0>)\n",
      "tensor(2.5014, grad_fn=<NegBackward0>)\n",
      "tensor(2.4992, grad_fn=<NegBackward0>)\n",
      "tensor(2.4970, grad_fn=<NegBackward0>)\n",
      "tensor(2.4949, grad_fn=<NegBackward0>)\n",
      "tensor(2.4929, grad_fn=<NegBackward0>)\n",
      "tensor(2.4910, grad_fn=<NegBackward0>)\n",
      "tensor(2.4891, grad_fn=<NegBackward0>)\n",
      "tensor(2.4873, grad_fn=<NegBackward0>)\n",
      "tensor(2.4856, grad_fn=<NegBackward0>)\n",
      "tensor(2.4840, grad_fn=<NegBackward0>)\n",
      "tensor(2.4824, grad_fn=<NegBackward0>)\n",
      "tensor(2.4809, grad_fn=<NegBackward0>)\n",
      "tensor(2.4794, grad_fn=<NegBackward0>)\n",
      "tensor(2.4780, grad_fn=<NegBackward0>)\n",
      "tensor(2.4766, grad_fn=<NegBackward0>)\n",
      "tensor(2.4752, grad_fn=<NegBackward0>)\n",
      "tensor(2.4739, grad_fn=<NegBackward0>)\n",
      "tensor(2.4727, grad_fn=<NegBackward0>)\n",
      "tensor(2.4715, grad_fn=<NegBackward0>)\n",
      "tensor(2.4703, grad_fn=<NegBackward0>)\n",
      "tensor(2.4692, grad_fn=<NegBackward0>)\n",
      "tensor(2.4681, grad_fn=<NegBackward0>)\n",
      "tensor(2.4670, grad_fn=<NegBackward0>)\n",
      "tensor(2.4659, grad_fn=<NegBackward0>)\n",
      "tensor(2.4649, grad_fn=<NegBackward0>)\n",
      "tensor(2.4639, grad_fn=<NegBackward0>)\n",
      "tensor(2.4630, grad_fn=<NegBackward0>)\n",
      "tensor(2.4620, grad_fn=<NegBackward0>)\n",
      "tensor(2.4611, grad_fn=<NegBackward0>)\n",
      "tensor(2.4602, grad_fn=<NegBackward0>)\n",
      "tensor(2.4593, grad_fn=<NegBackward0>)\n",
      "tensor(2.4585, grad_fn=<NegBackward0>)\n",
      "tensor(2.4577, grad_fn=<NegBackward0>)\n",
      "tensor(2.4568, grad_fn=<NegBackward0>)\n",
      "tensor(2.4561, grad_fn=<NegBackward0>)\n",
      "tensor(2.4553, grad_fn=<NegBackward0>)\n",
      "tensor(2.4545, grad_fn=<NegBackward0>)\n",
      "tensor(2.4538, grad_fn=<NegBackward0>)\n",
      "tensor(2.4531, grad_fn=<NegBackward0>)\n",
      "tensor(2.4524, grad_fn=<NegBackward0>)\n",
      "tensor(2.4517, grad_fn=<NegBackward0>)\n",
      "tensor(2.4510, grad_fn=<NegBackward0>)\n",
      "tensor(2.4504, grad_fn=<NegBackward0>)\n",
      "tensor(2.4497, grad_fn=<NegBackward0>)\n",
      "tensor(2.4491, grad_fn=<NegBackward0>)\n",
      "tensor(2.4485, grad_fn=<NegBackward0>)\n",
      "tensor(2.4479, grad_fn=<NegBackward0>)\n",
      "tensor(2.4473, grad_fn=<NegBackward0>)\n",
      "tensor(2.4467, grad_fn=<NegBackward0>)\n",
      "tensor(2.4461, grad_fn=<NegBackward0>)\n",
      "tensor(2.4456, grad_fn=<NegBackward0>)\n",
      "tensor(2.4451, grad_fn=<NegBackward0>)\n",
      "tensor(2.4445, grad_fn=<NegBackward0>)\n",
      "tensor(2.4440, grad_fn=<NegBackward0>)\n",
      "tensor(2.4435, grad_fn=<NegBackward0>)\n",
      "tensor(2.4430, grad_fn=<NegBackward0>)\n",
      "tensor(2.4425, grad_fn=<NegBackward0>)\n"
     ]
    }
   ],
   "source": [
    "for _ in range(100):\n",
    "    # forward\n",
    "    xenc = F.one_hot(xs, num_classes=abc_size).float()\n",
    "    logits = (xenc @ W)\n",
    "    counts = logits.exp()\n",
    "    probs = counts / counts.sum(1, keepdim=True)\n",
    "    loss = -probs[torch.arange(num), ys].log().mean()\n",
    "    \n",
    "    # backward\n",
    "    W.grad = None\n",
    "    loss.backward()\n",
    "    \n",
    "    # update\n",
    "    W.data += -50* W.grad\n",
    "    \n",
    "    print(loss)"
   ]
  }
 ],
 "metadata": {
  "kernelspec": {
   "display_name": "jupyter_env",
   "language": "python",
   "name": "jupyter_env"
  },
  "language_info": {
   "codemirror_mode": {
    "name": "ipython",
    "version": 3
   },
   "file_extension": ".py",
   "mimetype": "text/x-python",
   "name": "python",
   "nbconvert_exporter": "python",
   "pygments_lexer": "ipython3",
   "version": "3.8.13"
  }
 },
 "nbformat": 4,
 "nbformat_minor": 5
}
